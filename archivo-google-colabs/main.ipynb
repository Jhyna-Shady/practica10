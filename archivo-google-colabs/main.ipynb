{
 "cells": [
  {
   "cell_type": "code",
   "execution_count": 1,
   "metadata": {},
   "outputs": [],
   "source": [
    "#Define una clase base para las superficies 3D.\n",
    "import numpy as np\n",
    "\n",
    "class Superficie3D:\n",
    "    def __init__(self, x_range, y_range):\n",
    "        self.x_range = x_range\n",
    "        self.y_range = y_range\n",
    "        self.x, self.y = np.meshgrid(np.linspace(x_range[0], x_range[1], 100), \n",
    "                                     np.linspace(y_range[0], y_range[1], 100))\n",
    "\n",
    "    def calcular_z(self):\n",
    "        raise NotImplementedError(\"Este método debe ser implementado por las subclases\")\n",
    "\n",
    "    def generar_datos(self):\n",
    "        self.z = self.calcular_z()\n",
    "        return self.x, self.y, self.z\n"
   ]
  },
  {
   "cell_type": "code",
   "execution_count": 2,
   "metadata": {},
   "outputs": [],
   "source": [
    "\n",
    "#Implementa subclases para diferentes tipos de superficies.\n",
    "class Plano(Superficie3D):\n",
    "    def __init__(self, x_range, y_range, pendiente):\n",
    "        super().__init__(x_range, y_range)\n",
    "        self.pendiente = pendiente\n",
    "\n",
    "    def calcular_z(self):\n",
    "        return self.pendiente * self.x\n"
   ]
  },
  {
   "cell_type": "code",
   "execution_count": 3,
   "metadata": {},
   "outputs": [],
   "source": [
    "class Paraboloide(Superficie3D):\n",
    "    def __init__(self, x_range, y_range, coef):\n",
    "        super().__init__(x_range, y_range)\n",
    "        self.coef = coef\n",
    "\n",
    "    def calcular_z(self):\n",
    "        return self.coef * (self.x**2 + self.y**2)\n",
    "\n",
    "class Sinusoide(Superficie3D):\n",
    "    def __init__(self, x_range, y_range, frecuencia):\n",
    "        super().__init__(x_range, y_range)\n",
    "        self.frecuencia = frecuencia\n",
    "\n",
    "    def calcular_z(self):\n",
    "        return np.sin(self.frecuencia * np.sqrt(self.x**2 + self.y**2))\n",
    "\n",
    "\n"
   ]
  },
  {
   "cell_type": "code",
   "execution_count": 4,
   "metadata": {},
   "outputs": [],
   "source": [
    "#Implementa la clase para visualizar superficies usando Matplotlib.\n",
    "import matplotlib.pyplot as plt\n",
    "from mpl_toolkits.mplot3d import Axes3D\n",
    "\n",
    "class Visualizador3D:\n",
    "    def __init__(self, superficie):\n",
    "        self.superficie = superficie\n",
    "\n",
    "    def mostrar_con_matplotlib(self):\n",
    "        x, y, z = self.superficie.generar_datos()\n",
    "        fig = plt.figure()\n",
    "        ax = fig.add_subplot(111, projection='3d')\n",
    "        ax.plot_surface(x, y, z, cmap='viridis')\n",
    "        plt.show()\n"
   ]
  },
  {
   "cell_type": "code",
   "execution_count": 7,
   "metadata": {},
   "outputs": [
    {
     "name": "stdout",
     "output_type": "stream",
     "text": [
      "Seleccione el tipo de superficie:\n",
      "1. Plano\n",
      "2. Paraboloide\n",
      "3. Sinusoide\n"
     ]
    }
   ],
   "source": [
    "#Implementa la clase para visualizar superficies usando Plotly.\n",
    "import plotly.graph_objects as go\n",
    "\n",
    "class Visualizador3DPlotly(Visualizador3D):\n",
    "    def mostrar_con_plotly(self):\n",
    "        x, y, z = self.superficie.generar_datos()\n",
    "        fig = go.Figure(data=[go.Surface(z=z, x=x, y=y)])\n",
    "        fig.update_layout(title='Superficie 3D', autosize=False, width=800, height=800)\n",
    "\n",
    "#Desarrolla una interfaz simple que permita al usuario seleccionar el tipo de superficie y sus parámetros.\n",
    "def main():\n",
    "    print(\"Seleccione el tipo de superficie:\")\n",
    "    print(\"1. Plano\")\n",
    "    print(\"2. Paraboloide\")\n",
    "    print(\"3. Sinusoide\")\n",
    "    tipo = int(input(\"Ingrese el número de su elección: \"))\n",
    "\n",
    "    if tipo == 1:\n",
    "        pendiente = float(input(\"Ingrese la pendiente del plano: \"))\n",
    "        superficie = Plano((-5, 5), (-5, 5), pendiente)\n",
    "    elif tipo == 2:\n",
    "        coef = float(input(\"Ingrese el coeficiente del paraboloide: \"))\n",
    "        superficie = Paraboloide((-5, 5), (-5, 5), coef)\n",
    "    elif tipo == 3:\n",
    "        frecuencia = float(input(\"Ingrese la frecuencia de la sinusoide: \"))\n",
    "        superficie = Sinusoide((-5, 5), (-5, 5), frecuencia)\n",
    "    else:\n",
    "        print(\"Opción no válida.\")\n",
    "        return\n",
    "\n",
    "    visualizador = Visualizador3DPlotly(superficie)\n",
    "    visualizador.mostrar_con_plotly()\n",
    "\n",
    "if __name__ == \"__main__\":\n",
    "    main()\n"
   ]
  }
 ],
 "metadata": {
  "kernelspec": {
   "display_name": "Python 3",
   "language": "python",
   "name": "python3"
  },
  "language_info": {
   "codemirror_mode": {
    "name": "ipython",
    "version": 3
   },
   "file_extension": ".py",
   "mimetype": "text/x-python",
   "name": "python",
   "nbconvert_exporter": "python",
   "pygments_lexer": "ipython3",
   "version": "3.12.4"
  }
 },
 "nbformat": 4,
 "nbformat_minor": 2
}
